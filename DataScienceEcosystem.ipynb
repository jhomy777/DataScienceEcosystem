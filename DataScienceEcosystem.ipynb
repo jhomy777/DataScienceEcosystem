{
 "cells": [
  {
   "cell_type": "markdown",
   "id": "8dae532f-05e6-4a28-b9f7-4329edb174e0",
   "metadata": {},
   "source": [
    "# Data Science Tools and Ecosystem"
   ]
  },
  {
   "cell_type": "markdown",
   "id": "45da53c3-e8c5-4d87-be49-e6d034cc8512",
   "metadata": {},
   "source": [
    "#### In this notebook, Data Science Tools and Ecosystem are summarized."
   ]
  },
  {
   "cell_type": "markdown",
   "id": "0ad9e11e-1086-4861-ae12-a90ab0f0dce7",
   "metadata": {},
   "source": [
    "__Objectives:__\n",
    "- List popular languages for Data Science\n",
    "- List commonly used libraries used by Data Scientists\n",
    "- Evaluate arithmetic expressions in Python\n"
   ]
  },
  {
   "cell_type": "markdown",
   "id": "e06f5dad-4b10-4f40-a483-2c6ed3f20262",
   "metadata": {},
   "source": [
    "#### Some of the popular languages that Data Scientists use are:"
   ]
  },
  {
   "cell_type": "markdown",
   "id": "4b521bb4-bc34-44ba-bf2f-3613180e661d",
   "metadata": {},
   "source": [
    "1. R\n",
    "2. Python\n",
    "3. C\n",
    "4. Java\n"
   ]
  },
  {
   "cell_type": "markdown",
   "id": "49507406-fabf-4879-872b-1fc103c1a759",
   "metadata": {},
   "source": [
    "#### Some of the commonly used libraries used by Data Scientists include:"
   ]
  },
  {
   "cell_type": "markdown",
   "id": "63137a6a-2c9e-4880-91dd-1a01692f1d72",
   "metadata": {},
   "source": [
    "1. NumPy\n",
    "2. Matpltlib\n",
    "3. TensorFlow\n",
    "4. Plotly"
   ]
  },
  {
   "cell_type": "markdown",
   "id": "08b88ce1-dc73-48e7-8902-a15c75bc72eb",
   "metadata": {},
   "source": [
    "Data Science Tools|\n",
    ":-----------------|\n",
    "|Jupyter Notebook|\n",
    "|RStudio|\n",
    "|Apache Stark|\n"
   ]
  },
  {
   "cell_type": "markdown",
   "id": "2e713a94-03f6-4fee-a1fe-92513c54a0cb",
   "metadata": {},
   "source": [
    "### Below are a few examples of evaluating arithmetic expressions in Python"
   ]
  },
  {
   "cell_type": "code",
   "execution_count": 26,
   "id": "7995b542-6d93-41b0-8980-3af16199d5af",
   "metadata": {},
   "outputs": [
    {
     "data": {
      "text/plain": [
       "6"
      ]
     },
     "execution_count": 26,
     "metadata": {},
     "output_type": "execute_result"
    }
   ],
   "source": [
    "2 * 3 # Multiplication"
   ]
  },
  {
   "cell_type": "code",
   "execution_count": 27,
   "id": "49cc3f5d-b3e5-4cbc-9b26-7fa9a1d716ee",
   "metadata": {},
   "outputs": [
    {
     "data": {
      "text/plain": [
       "7"
      ]
     },
     "execution_count": 27,
     "metadata": {},
     "output_type": "execute_result"
    }
   ],
   "source": [
    "15-8 # sustraction"
   ]
  },
  {
   "cell_type": "code",
   "execution_count": 28,
   "id": "c2eaf966-4b8e-4e51-bb86-388212f8eca4",
   "metadata": {},
   "outputs": [
    {
     "name": "stdout",
     "output_type": "stream",
     "text": [
      "64\n"
     ]
    }
   ],
   "source": [
    "x = pow(4, 3)\n",
    "print(x)"
   ]
  },
  {
   "cell_type": "markdown",
   "id": "f7865c93-d81c-4a72-9cb3-5ef07f8b6dfe",
   "metadata": {},
   "source": [
    " #### This a simple arithmetic expression to mutiply then add integers"
   ]
  },
  {
   "cell_type": "code",
   "execution_count": 30,
   "id": "52a68a8e-0dca-4264-9099-9b29a14ab1a8",
   "metadata": {},
   "outputs": [
    {
     "data": {
      "text/plain": [
       "17"
      ]
     },
     "execution_count": 30,
     "metadata": {},
     "output_type": "execute_result"
    }
   ],
   "source": [
    "(3*4)+5"
   ]
  },
  {
   "cell_type": "markdown",
   "id": "45da754f-cc0f-4499-a45f-7021e3d88040",
   "metadata": {},
   "source": [
    "#### This will convert 200 minutes to hours by diving by 60"
   ]
  },
  {
   "cell_type": "code",
   "execution_count": 32,
   "id": "c9b66bba-05e3-4943-a370-19730d626bb6",
   "metadata": {},
   "outputs": [
    {
     "data": {
      "text/plain": [
       "3.3333333333333335"
      ]
     },
     "execution_count": 32,
     "metadata": {},
     "output_type": "execute_result"
    }
   ],
   "source": [
    "200/60\n"
   ]
  },
  {
   "cell_type": "markdown",
   "id": "841aa066-934d-4254-8c52-e104a06d917f",
   "metadata": {},
   "source": [
    "## Author\n",
    "Jhomary M."
   ]
  },
  {
   "cell_type": "code",
   "execution_count": null,
   "id": "a210a59e-0756-45a6-af55-fe0f5ea967f2",
   "metadata": {},
   "outputs": [],
   "source": []
  }
 ],
 "metadata": {
  "kernelspec": {
   "display_name": "Python [conda env:base] *",
   "language": "python",
   "name": "conda-base-py"
  },
  "language_info": {
   "codemirror_mode": {
    "name": "ipython",
    "version": 3
   },
   "file_extension": ".py",
   "mimetype": "text/x-python",
   "name": "python",
   "nbconvert_exporter": "python",
   "pygments_lexer": "ipython3",
   "version": "3.12.7"
  }
 },
 "nbformat": 4,
 "nbformat_minor": 5
}
